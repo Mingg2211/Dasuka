{
 "cells": [
  {
   "cell_type": "code",
   "execution_count": 218,
   "metadata": {},
   "outputs": [],
   "source": [
    "import pandas as pd"
   ]
  },
  {
   "cell_type": "code",
   "execution_count": 219,
   "metadata": {},
   "outputs": [],
   "source": [
    "df_1 = pd.read_csv('data/hscode_data.xlsx - 1.csv')"
   ]
  },
  {
   "cell_type": "code",
   "execution_count": 220,
   "metadata": {},
   "outputs": [],
   "source": [
    "df_2 = pd.read_csv('data/hscode_data.xlsx - 2.csv')\n"
   ]
  },
  {
   "cell_type": "code",
   "execution_count": 221,
   "metadata": {},
   "outputs": [],
   "source": [
    "df_3 = pd.read_csv('data/hscode_data.xlsx - 3.csv')\n"
   ]
  },
  {
   "cell_type": "code",
   "execution_count": 222,
   "metadata": {},
   "outputs": [],
   "source": [
    "df_4 = pd.read_csv('data/hscode_data.xlsx - 4.csv')"
   ]
  },
  {
   "cell_type": "code",
   "execution_count": 223,
   "metadata": {},
   "outputs": [],
   "source": [
    "df_5 = pd.read_csv('data/hscode_data.xlsx - 5.csv')\n"
   ]
  },
  {
   "cell_type": "code",
   "execution_count": 224,
   "metadata": {},
   "outputs": [
    {
     "name": "stdout",
     "output_type": "stream",
     "text": [
      "<class 'pandas.core.frame.DataFrame'>\n",
      "RangeIndex: 104079 entries, 0 to 104078\n",
      "Data columns (total 3 columns):\n",
      " #   Column         Non-Null Count   Dtype \n",
      "---  ------         --------------   ----- \n",
      " 0   Ma_HS          104079 non-null  int64 \n",
      " 1   Ten_SP         104079 non-null  object\n",
      " 2   Ngay_xac_nhan  104041 non-null  object\n",
      "dtypes: int64(1), object(2)\n",
      "memory usage: 2.4+ MB\n"
     ]
    }
   ],
   "source": [
    "df_1.info()"
   ]
  },
  {
   "cell_type": "code",
   "execution_count": 230,
   "metadata": {},
   "outputs": [
    {
     "name": "stdout",
     "output_type": "stream",
     "text": [
      "           Ma_HS                                             Ten_SP  \\\n",
      "0       73269099  Thép chữ L, KT: (748x20x20x2t mm), thuộc mục I...   \n",
      "1       73269099  Ống thép tròn, KT: (1000mm x phi 10), thuộc mụ...   \n",
      "2       85177021  Tấm phim cảm biến của thiết bị di động (ITO),M...   \n",
      "3       85177021  Bản mạch FPCB,MU41-S00433142.14 x 217.82mm, 0....   \n",
      "4       39191090  Băng dính dẫn điện (ACF) dạng cuộn,3719-S00002...   \n",
      "...          ...                                                ...   \n",
      "500706  85365099  .#&Công tắc từ dùng cho thiết bị lắp ráp đồng ...   \n",
      "500707  39269099  .#&Miếng đệm dùng cho hàm kẹp cố định sản phẩm...   \n",
      "500708  39269099  .#&Miếng đệm dùng cho hàm kẹp cố định sản phẩm...   \n",
      "500709  85414900  .#&Cảm biến quang điện, model: LU-L24N, công s...   \n",
      "500710  85414900  .#&Cảm biến quang điện, model: LU-L24N, công s...   \n",
      "\n",
      "             Ngay_xac_nhan  \n",
      "0       15/05/2014 0:00:00  \n",
      "1       15/05/2014 0:00:00  \n",
      "2       22/04/2014 0:00:00  \n",
      "3       22/04/2014 0:00:00  \n",
      "4       22/04/2014 0:00:00  \n",
      "...                    ...  \n",
      "500706  30/08/2023 0:00:00  \n",
      "500707  30/08/2023 0:00:00  \n",
      "500708  30/08/2023 0:00:00  \n",
      "500709  30/08/2023 0:00:00  \n",
      "500710  30/08/2023 0:00:00  \n",
      "\n",
      "[500711 rows x 3 columns]\n"
     ]
    }
   ],
   "source": [
    "# Đặt các DataFrame vào một danh sách\n",
    "dfs = [df_1, df_2, df_3, df_4, df_5]\n",
    "\n",
    "# Sử dụng pd.concat() để nối các DataFrame\n",
    "df_big = pd.concat(dfs, ignore_index=True)\n",
    "\n",
    "# In DataFrame lớn\n",
    "print(df_big)\n"
   ]
  },
  {
   "cell_type": "code",
   "execution_count": 231,
   "metadata": {},
   "outputs": [
    {
     "data": {
      "text/html": [
       "<div>\n",
       "<style scoped>\n",
       "    .dataframe tbody tr th:only-of-type {\n",
       "        vertical-align: middle;\n",
       "    }\n",
       "\n",
       "    .dataframe tbody tr th {\n",
       "        vertical-align: top;\n",
       "    }\n",
       "\n",
       "    .dataframe thead th {\n",
       "        text-align: right;\n",
       "    }\n",
       "</style>\n",
       "<table border=\"1\" class=\"dataframe\">\n",
       "  <thead>\n",
       "    <tr style=\"text-align: right;\">\n",
       "      <th></th>\n",
       "      <th>Ma_HS</th>\n",
       "      <th>Ten_SP</th>\n",
       "      <th>Ngay_xac_nhan</th>\n",
       "    </tr>\n",
       "  </thead>\n",
       "  <tbody>\n",
       "    <tr>\n",
       "      <th>0</th>\n",
       "      <td>73269099</td>\n",
       "      <td>Thép chữ L, KT: (748x20x20x2t mm), thuộc mục I...</td>\n",
       "      <td>15/05/2014 0:00:00</td>\n",
       "    </tr>\n",
       "    <tr>\n",
       "      <th>1</th>\n",
       "      <td>73269099</td>\n",
       "      <td>Ống thép tròn, KT: (1000mm x phi 10), thuộc mụ...</td>\n",
       "      <td>15/05/2014 0:00:00</td>\n",
       "    </tr>\n",
       "    <tr>\n",
       "      <th>2</th>\n",
       "      <td>85177021</td>\n",
       "      <td>Tấm phim cảm biến của thiết bị di động (ITO),M...</td>\n",
       "      <td>22/04/2014 0:00:00</td>\n",
       "    </tr>\n",
       "    <tr>\n",
       "      <th>3</th>\n",
       "      <td>85177021</td>\n",
       "      <td>Bản mạch FPCB,MU41-S00433142.14 x 217.82mm, 0....</td>\n",
       "      <td>22/04/2014 0:00:00</td>\n",
       "    </tr>\n",
       "    <tr>\n",
       "      <th>4</th>\n",
       "      <td>39191090</td>\n",
       "      <td>Băng dính dẫn điện (ACF) dạng cuộn,3719-S00002...</td>\n",
       "      <td>22/04/2014 0:00:00</td>\n",
       "    </tr>\n",
       "  </tbody>\n",
       "</table>\n",
       "</div>"
      ],
      "text/plain": [
       "      Ma_HS                                             Ten_SP  \\\n",
       "0  73269099  Thép chữ L, KT: (748x20x20x2t mm), thuộc mục I...   \n",
       "1  73269099  Ống thép tròn, KT: (1000mm x phi 10), thuộc mụ...   \n",
       "2  85177021  Tấm phim cảm biến của thiết bị di động (ITO),M...   \n",
       "3  85177021  Bản mạch FPCB,MU41-S00433142.14 x 217.82mm, 0....   \n",
       "4  39191090  Băng dính dẫn điện (ACF) dạng cuộn,3719-S00002...   \n",
       "\n",
       "        Ngay_xac_nhan  \n",
       "0  15/05/2014 0:00:00  \n",
       "1  15/05/2014 0:00:00  \n",
       "2  22/04/2014 0:00:00  \n",
       "3  22/04/2014 0:00:00  \n",
       "4  22/04/2014 0:00:00  "
      ]
     },
     "execution_count": 231,
     "metadata": {},
     "output_type": "execute_result"
    }
   ],
   "source": [
    "df_big.head()"
   ]
  },
  {
   "cell_type": "code",
   "execution_count": 233,
   "metadata": {},
   "outputs": [],
   "source": [
    "df_big = df_big.drop_duplicates(subset=['Ten_SP'])"
   ]
  },
  {
   "cell_type": "code",
   "execution_count": 234,
   "metadata": {},
   "outputs": [
    {
     "name": "stdout",
     "output_type": "stream",
     "text": [
      "<class 'pandas.core.frame.DataFrame'>\n",
      "Index: 191891 entries, 0 to 500705\n",
      "Data columns (total 3 columns):\n",
      " #   Column         Non-Null Count   Dtype \n",
      "---  ------         --------------   ----- \n",
      " 0   Ma_HS          191891 non-null  int64 \n",
      " 1   Ten_SP         191891 non-null  object\n",
      " 2   Ngay_xac_nhan  191822 non-null  object\n",
      "dtypes: int64(1), object(2)\n",
      "memory usage: 5.9+ MB\n"
     ]
    }
   ],
   "source": [
    "df_big.info()"
   ]
  },
  {
   "cell_type": "code",
   "execution_count": 236,
   "metadata": {},
   "outputs": [],
   "source": [
    "df_big.to_csv('data/HSCode_sample.csv', index=False)"
   ]
  },
  {
   "cell_type": "code",
   "execution_count": 239,
   "metadata": {},
   "outputs": [
    {
     "name": "stdout",
     "output_type": "stream",
     "text": [
      "                 text\n",
      "0   text1 text4 text7\n",
      "1   text2 text5 text8\n",
      "2   text3 text6 text9\n",
      "3   text1 text4 text7\n",
      "4   text2 text5 text8\n",
      "5   text3 text6 text9\n",
      "6   text1 text4 text7\n",
      "7   text2 text5 text8\n",
      "8   text3 text6 text9\n",
      "9   text1 text4 text7\n",
      "10  text2 text5 text8\n",
      "11  text3 text6 text9\n",
      "12  text1 text4 text7\n",
      "13  text2 text5 text8\n",
      "14  text3 text6 text9\n"
     ]
    }
   ],
   "source": [
    "data = {'A': ['text1', 'text2', 'text3'],\n",
    "        'B': ['text4', 'text5', 'text6'],\n",
    "        'C': ['text7', 'text8', 'text9']}\n",
    "\n",
    "df1 = pd.DataFrame(data)\n",
    "df2 = pd.DataFrame(data)\n",
    "df3 = pd.DataFrame(data)\n",
    "df4 = pd.DataFrame(data)\n",
    "df5 = pd.DataFrame(data)\n",
    "\n",
    "# Nối các DataFrame lại với nhau\n",
    "df_big = pd.concat([df1, df2, df3, df4, df5], ignore_index=True)\n",
    "\n",
    "# Định nghĩa hàm tạo đoạn văn bản từ các cột A, B và C\n",
    "def create_text(row):\n",
    "    return ' '.join([str(row['A']), str(row['B']), str(row['C'])])\n",
    "\n",
    "# Áp dụng hàm tạo đoạn văn bản cho từng dòng\n",
    "df_big['text'] = df_big.apply(create_text, axis=1)\n",
    "\n",
    "# In DataFrame lớn với cột 'text' mới\n",
    "print(df_big[['text']])"
   ]
  },
  {
   "cell_type": "code",
   "execution_count": 244,
   "metadata": {},
   "outputs": [
    {
     "data": {
      "text/html": [
       "<div>\n",
       "<style scoped>\n",
       "    .dataframe tbody tr th:only-of-type {\n",
       "        vertical-align: middle;\n",
       "    }\n",
       "\n",
       "    .dataframe tbody tr th {\n",
       "        vertical-align: top;\n",
       "    }\n",
       "\n",
       "    .dataframe thead th {\n",
       "        text-align: right;\n",
       "    }\n",
       "</style>\n",
       "<table border=\"1\" class=\"dataframe\">\n",
       "  <thead>\n",
       "    <tr style=\"text-align: right;\">\n",
       "      <th></th>\n",
       "      <th>hscode</th>\n",
       "      <th>mota</th>\n",
       "    </tr>\n",
       "  </thead>\n",
       "  <tbody>\n",
       "    <tr>\n",
       "      <th>12</th>\n",
       "      <td>0101</td>\n",
       "      <td>Ngựa, lừa, la sống</td>\n",
       "    </tr>\n",
       "    <tr>\n",
       "      <th>13</th>\n",
       "      <td>#13</td>\n",
       "      <td>- Ngựa:</td>\n",
       "    </tr>\n",
       "    <tr>\n",
       "      <th>14</th>\n",
       "      <td>01012100</td>\n",
       "      <td>- - Loại thuần chủng để nhân giống</td>\n",
       "    </tr>\n",
       "    <tr>\n",
       "      <th>15</th>\n",
       "      <td>01012900</td>\n",
       "      <td>- - Loại khác</td>\n",
       "    </tr>\n",
       "    <tr>\n",
       "      <th>16</th>\n",
       "      <td>010130</td>\n",
       "      <td>- Lừa:</td>\n",
       "    </tr>\n",
       "    <tr>\n",
       "      <th>...</th>\n",
       "      <td>...</td>\n",
       "      <td>...</td>\n",
       "    </tr>\n",
       "    <tr>\n",
       "      <th>19888</th>\n",
       "      <td>98494600</td>\n",
       "      <td>- Engine ECU và các bộ điều khiển khác, được s...</td>\n",
       "    </tr>\n",
       "    <tr>\n",
       "      <th>19889</th>\n",
       "      <td>98494600</td>\n",
       "      <td>- Engine ECU và các bộ điều khiển khác, được s...</td>\n",
       "    </tr>\n",
       "    <tr>\n",
       "      <th>19890</th>\n",
       "      <td>98500000</td>\n",
       "      <td>Thuốc trị mụn trứng cá.</td>\n",
       "    </tr>\n",
       "    <tr>\n",
       "      <th>19891</th>\n",
       "      <td>98510000</td>\n",
       "      <td>Trứng cá dùng làm giống.</td>\n",
       "    </tr>\n",
       "    <tr>\n",
       "      <th>19892</th>\n",
       "      <td>98520000</td>\n",
       "      <td>Bột đậu nành lên men.</td>\n",
       "    </tr>\n",
       "  </tbody>\n",
       "</table>\n",
       "<p>19861 rows × 2 columns</p>\n",
       "</div>"
      ],
      "text/plain": [
       "         hscode                                               mota\n",
       "12         0101                                 Ngựa, lừa, la sống\n",
       "13          #13                                            - Ngựa:\n",
       "14     01012100                 - - Loại thuần chủng để nhân giống\n",
       "15     01012900                                      - - Loại khác\n",
       "16       010130                                             - Lừa:\n",
       "...         ...                                                ...\n",
       "19888  98494600  - Engine ECU và các bộ điều khiển khác, được s...\n",
       "19889  98494600  - Engine ECU và các bộ điều khiển khác, được s...\n",
       "19890  98500000                            Thuốc trị mụn trứng cá.\n",
       "19891  98510000                           Trứng cá dùng làm giống.\n",
       "19892  98520000                              Bột đậu nành lên men.\n",
       "\n",
       "[19861 rows x 2 columns]"
      ]
     },
     "execution_count": 244,
     "metadata": {},
     "output_type": "execute_result"
    }
   ],
   "source": [
    "import pandas as pd\n",
    "\n",
    "df = pd.read_csv('data/__2.csv')\n",
    "# hscode,mota\n",
    "def filter_fn(row):\n",
    "    if len(row['hscode'])<4  and row['mota'][0]!='-':\n",
    "        return False\n",
    "    else:\n",
    "        return True\n",
    "    \n",
    "m = df.apply(filter_fn, axis=1)\n",
    "df1 = df[m]\n",
    "df1"
   ]
  },
  {
   "cell_type": "code",
   "execution_count": 248,
   "metadata": {},
   "outputs": [],
   "source": [
    "df1.to_csv(\"data/xinphet.csv\",index=False)"
   ]
  }
 ],
 "metadata": {
  "kernelspec": {
   "display_name": "Dasuka",
   "language": "python",
   "name": "python3"
  },
  "language_info": {
   "codemirror_mode": {
    "name": "ipython",
    "version": 3
   },
   "file_extension": ".py",
   "mimetype": "text/x-python",
   "name": "python",
   "nbconvert_exporter": "python",
   "pygments_lexer": "ipython3",
   "version": "3.8.17"
  },
  "orig_nbformat": 4
 },
 "nbformat": 4,
 "nbformat_minor": 2
}
